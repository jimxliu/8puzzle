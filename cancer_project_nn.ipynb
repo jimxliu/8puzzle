{
  "nbformat": 4,
  "nbformat_minor": 0,
  "metadata": {
    "colab": {
      "name": "cancer_project_nn.ipynb",
      "version": "0.3.2",
      "provenance": [],
      "collapsed_sections": [],
      "include_colab_link": true
    },
    "kernelspec": {
      "name": "python3",
      "display_name": "Python 3"
    }
  },
  "cells": [
    {
      "cell_type": "markdown",
      "metadata": {
        "id": "view-in-github",
        "colab_type": "text"
      },
      "source": [
        "<a href=\"https://colab.research.google.com/github/jimxliu/8puzzle/blob/master/cancer_project_nn.ipynb\" target=\"_parent\"><img src=\"https://colab.research.google.com/assets/colab-badge.svg\" alt=\"Open In Colab\"/></a>"
      ]
    },
    {
      "metadata": {
        "id": "aET2OxvVBVxt",
        "colab_type": "code",
        "outputId": "5945b855-2c86-4f34-f11b-c40e979faa79",
        "colab": {
          "base_uri": "https://localhost:8080/",
          "height": 124
        }
      },
      "cell_type": "code",
      "source": [
        "from google.colab import drive\n",
        "drive.mount('/content/gdrive')"
      ],
      "execution_count": 1,
      "outputs": [
        {
          "output_type": "stream",
          "text": [
            "Go to this URL in a browser: https://accounts.google.com/o/oauth2/auth?client_id=947318989803-6bn6qk8qdgf4n4g3pfee6491hc0brc4i.apps.googleusercontent.com&redirect_uri=urn%3Aietf%3Awg%3Aoauth%3A2.0%3Aoob&scope=email%20https%3A%2F%2Fwww.googleapis.com%2Fauth%2Fdocs.test%20https%3A%2F%2Fwww.googleapis.com%2Fauth%2Fdrive%20https%3A%2F%2Fwww.googleapis.com%2Fauth%2Fdrive.photos.readonly%20https%3A%2F%2Fwww.googleapis.com%2Fauth%2Fpeopleapi.readonly&response_type=code\n",
            "\n",
            "Enter your authorization code:\n",
            "··········\n",
            "Mounted at /content/gdrive\n"
          ],
          "name": "stdout"
        }
      ]
    },
    {
      "metadata": {
        "id": "NuOkeEK1CRhU",
        "colab_type": "code",
        "outputId": "b22403b4-db29-47d0-8d5c-7f5c79aa7e78",
        "colab": {
          "base_uri": "https://localhost:8080/",
          "height": 52
        }
      },
      "cell_type": "code",
      "source": [
        "ls 'gdrive/My Drive/cancer_classification_nn'"
      ],
      "execution_count": 2,
      "outputs": [
        {
          "output_type": "stream",
          "text": [
            "cancer_project_nn.ipynb  features_train_all.npy  labels_train_all.npy\n",
            "features_test.npy        labels_test.npy         masked_features.npy\n"
          ],
          "name": "stdout"
        }
      ]
    },
    {
      "metadata": {
        "id": "NTGqGVTlv-m1",
        "colab_type": "text"
      },
      "cell_type": "markdown",
      "source": [
        "### load data"
      ]
    },
    {
      "metadata": {
        "id": "1EgF1gL8B9J4",
        "colab_type": "code",
        "outputId": "a471a0bc-ed76-403c-cc6a-854d07e3e302",
        "colab": {
          "base_uri": "https://localhost:8080/",
          "height": 104
        }
      },
      "cell_type": "code",
      "source": [
        "import numpy as np\n",
        "features_train_all = np.load('gdrive/My Drive/cancer_classification_nn/features_train_all.npy')\n",
        "labels_train_all = np.load('gdrive/My Drive/cancer_classification_nn/labels_train_all.npy')\n",
        "features_test = np.load('gdrive/My Drive/cancer_classification_nn/features_test.npy')\n",
        "labels_test = np.load('gdrive/My Drive/cancer_classification_nn/labels_test.npy')\n",
        "mask = np.load('gdrive/My Drive/cancer_classification_nn/masked_features.npy')\n",
        "\n",
        "print(features_train_all.shape)\n",
        "print(labels_train_all.shape)\n",
        "print(features_test.shape)\n",
        "print(labels_test.shape)\n",
        "print(mask.shape, mask[mask==True].shape)"
      ],
      "execution_count": 30,
      "outputs": [
        {
          "output_type": "stream",
          "text": [
            "(1360, 20531)\n",
            "(1360,)\n",
            "(340, 20531)\n",
            "(340,)\n",
            "(20531,) (100,)\n"
          ],
          "name": "stdout"
        }
      ]
    },
    {
      "metadata": {
        "id": "9lASFesAmnD5",
        "colab_type": "text"
      },
      "cell_type": "markdown",
      "source": [
        "### Split train_all into train and validation datasets"
      ]
    },
    {
      "metadata": {
        "id": "vp5XCTlsmtaI",
        "colab_type": "code",
        "colab": {
          "base_uri": "https://localhost:8080/",
          "height": 86
        },
        "outputId": "f4896175-7563-44d1-d07f-6780e75dd8b5"
      },
      "cell_type": "code",
      "source": [
        "from sklearn.model_selection import train_test_split\n",
        "features_train, features_val, labels_train, labels_val = train_test_split(features_train_all,\n",
        "                                                                         labels_train_all,\n",
        "                                                                         test_size=0.2,\n",
        "                                                                         shuffle=True)\n",
        "print(features_train.shape)\n",
        "print(labels_train.shape)\n",
        "print(features_val.shape)\n",
        "print(labels_val.shape)"
      ],
      "execution_count": 31,
      "outputs": [
        {
          "output_type": "stream",
          "text": [
            "(1088, 20531)\n",
            "(1088,)\n",
            "(272, 20531)\n",
            "(272,)\n"
          ],
          "name": "stdout"
        }
      ]
    },
    {
      "metadata": {
        "id": "lS1FHTObwK9k",
        "colab_type": "text"
      },
      "cell_type": "markdown",
      "source": [
        "### select 100 features extracted from RFE"
      ]
    },
    {
      "metadata": {
        "id": "VnFhJDHpQsVo",
        "colab_type": "code",
        "outputId": "d122b7db-5c9f-4494-cf76-0313db46066e",
        "colab": {
          "base_uri": "https://localhost:8080/",
          "height": 69
        }
      },
      "cell_type": "code",
      "source": [
        "features_train = features_train[:,mask]\n",
        "features_val = features_val[:,mask]\n",
        "features_test = features_test[:,mask]\n",
        "print(features_train.shape)\n",
        "print(features_val.shape)\n",
        "print(features_test.shape)"
      ],
      "execution_count": 32,
      "outputs": [
        {
          "output_type": "stream",
          "text": [
            "(1088, 100)\n",
            "(272, 100)\n",
            "(340, 100)\n"
          ],
          "name": "stdout"
        }
      ]
    },
    {
      "metadata": {
        "id": "BR-PbmAeDXYN",
        "colab_type": "code",
        "colab": {}
      },
      "cell_type": "code",
      "source": [
        "import keras\n",
        "import matplotlib.pyplot as plt"
      ],
      "execution_count": 0,
      "outputs": []
    },
    {
      "metadata": {
        "id": "z0h3dXdbkk6g",
        "colab_type": "code",
        "colab": {}
      },
      "cell_type": "code",
      "source": [
        ""
      ],
      "execution_count": 0,
      "outputs": []
    },
    {
      "metadata": {
        "id": "hpRRYGbGwat0",
        "colab_type": "text"
      },
      "cell_type": "markdown",
      "source": [
        "### build a sequential NN model"
      ]
    },
    {
      "metadata": {
        "id": "AA1oPIRVD4Gi",
        "colab_type": "code",
        "outputId": "70d3380d-5a52-4380-fff6-5796f96b09a7",
        "colab": {
          "base_uri": "https://localhost:8080/",
          "height": 278
        }
      },
      "cell_type": "code",
      "source": [
        "model =  keras.Sequential()\n",
        "# input layer\n",
        "model.add(keras.layers.Dense(50, activation='relu', input_shape=(100,)))\n",
        "# hidden layer\n",
        "model.add(keras.layers.Dense(50, activation='relu'))\n",
        "model.add(keras.layers.Dense(50, activation='relu'))\n",
        "# output layer\n",
        "model.add(keras.layers.Dense(7, activation='softmax'))\n",
        "\n",
        "model.summary()"
      ],
      "execution_count": 34,
      "outputs": [
        {
          "output_type": "stream",
          "text": [
            "_________________________________________________________________\n",
            "Layer (type)                 Output Shape              Param #   \n",
            "=================================================================\n",
            "dense_13 (Dense)             (None, 50)                5050      \n",
            "_________________________________________________________________\n",
            "dense_14 (Dense)             (None, 50)                2550      \n",
            "_________________________________________________________________\n",
            "dense_15 (Dense)             (None, 50)                2550      \n",
            "_________________________________________________________________\n",
            "dense_16 (Dense)             (None, 7)                 357       \n",
            "=================================================================\n",
            "Total params: 10,507\n",
            "Trainable params: 10,507\n",
            "Non-trainable params: 0\n",
            "_________________________________________________________________\n"
          ],
          "name": "stdout"
        }
      ]
    },
    {
      "metadata": {
        "id": "_CGhVZ_AGlI0",
        "colab_type": "code",
        "colab": {}
      },
      "cell_type": "code",
      "source": [
        "model.compile(optimizer='adam',\n",
        "              loss='sparse_categorical_crossentropy',\n",
        "              metrics=['accuracy'])"
      ],
      "execution_count": 0,
      "outputs": []
    },
    {
      "metadata": {
        "id": "mZvRDgJZHG72",
        "colab_type": "code",
        "colab": {}
      },
      "cell_type": "code",
      "source": [
        "callback = [keras.callbacks.EarlyStopping(monitor='val_lost', min_delta=1e-3, patience=2)]"
      ],
      "execution_count": 0,
      "outputs": []
    },
    {
      "metadata": {
        "id": "T7HIcurlwk9W",
        "colab_type": "text"
      },
      "cell_type": "markdown",
      "source": [
        "### train the model"
      ]
    },
    {
      "metadata": {
        "id": "tfZg9iVuJdH4",
        "colab_type": "code",
        "outputId": "62ffe58c-746a-4314-d750-3a772f9927d6",
        "colab": {
          "base_uri": "https://localhost:8080/",
          "height": 1424
        }
      },
      "cell_type": "code",
      "source": [
        "history = model.fit(features_train, labels_train,\n",
        "                   epochs=40,\n",
        "                   batch_size = 50,\n",
        "                   validation_data = (features_val,  labels_val))"
      ],
      "execution_count": 37,
      "outputs": [
        {
          "output_type": "stream",
          "text": [
            "Train on 1088 samples, validate on 272 samples\n",
            "Epoch 1/40\n",
            "1088/1088 [==============================] - 0s 350us/step - loss: 1.8473 - acc: 0.3428 - val_loss: 1.7061 - val_acc: 0.4485\n",
            "Epoch 2/40\n",
            "1088/1088 [==============================] - 0s 40us/step - loss: 1.4742 - acc: 0.5441 - val_loss: 1.2075 - val_acc: 0.7022\n",
            "Epoch 3/40\n",
            "1088/1088 [==============================] - 0s 41us/step - loss: 0.9233 - acc: 0.8116 - val_loss: 0.6445 - val_acc: 0.8860\n",
            "Epoch 4/40\n",
            "1088/1088 [==============================] - 0s 37us/step - loss: 0.4817 - acc: 0.9007 - val_loss: 0.3567 - val_acc: 0.9191\n",
            "Epoch 5/40\n",
            "1088/1088 [==============================] - 0s 37us/step - loss: 0.2826 - acc: 0.9301 - val_loss: 0.2411 - val_acc: 0.9559\n",
            "Epoch 6/40\n",
            "1088/1088 [==============================] - 0s 41us/step - loss: 0.1876 - acc: 0.9632 - val_loss: 0.1627 - val_acc: 0.9706\n",
            "Epoch 7/40\n",
            "1088/1088 [==============================] - 0s 38us/step - loss: 0.1331 - acc: 0.9724 - val_loss: 0.1321 - val_acc: 0.9743\n",
            "Epoch 8/40\n",
            "1088/1088 [==============================] - 0s 38us/step - loss: 0.1032 - acc: 0.9816 - val_loss: 0.1152 - val_acc: 0.9743\n",
            "Epoch 9/40\n",
            "1088/1088 [==============================] - 0s 42us/step - loss: 0.0849 - acc: 0.9871 - val_loss: 0.1061 - val_acc: 0.9706\n",
            "Epoch 10/40\n",
            "1088/1088 [==============================] - 0s 37us/step - loss: 0.0684 - acc: 0.9890 - val_loss: 0.1061 - val_acc: 0.9632\n",
            "Epoch 11/40\n",
            "1088/1088 [==============================] - 0s 39us/step - loss: 0.0564 - acc: 0.9954 - val_loss: 0.1010 - val_acc: 0.9706\n",
            "Epoch 12/40\n",
            "1088/1088 [==============================] - 0s 38us/step - loss: 0.0500 - acc: 0.9945 - val_loss: 0.1065 - val_acc: 0.9596\n",
            "Epoch 13/40\n",
            "1088/1088 [==============================] - 0s 37us/step - loss: 0.0424 - acc: 0.9954 - val_loss: 0.1172 - val_acc: 0.9559\n",
            "Epoch 14/40\n",
            "1088/1088 [==============================] - 0s 37us/step - loss: 0.0369 - acc: 0.9945 - val_loss: 0.0912 - val_acc: 0.9669\n",
            "Epoch 15/40\n",
            "1088/1088 [==============================] - 0s 40us/step - loss: 0.0299 - acc: 0.9972 - val_loss: 0.1089 - val_acc: 0.9743\n",
            "Epoch 16/40\n",
            "1088/1088 [==============================] - 0s 37us/step - loss: 0.0268 - acc: 0.9982 - val_loss: 0.0931 - val_acc: 0.9706\n",
            "Epoch 17/40\n",
            "1088/1088 [==============================] - 0s 38us/step - loss: 0.0264 - acc: 0.9972 - val_loss: 0.0806 - val_acc: 0.9706\n",
            "Epoch 18/40\n",
            "1088/1088 [==============================] - 0s 35us/step - loss: 0.0220 - acc: 0.9991 - val_loss: 0.0815 - val_acc: 0.9706\n",
            "Epoch 19/40\n",
            "1088/1088 [==============================] - 0s 37us/step - loss: 0.0190 - acc: 0.9982 - val_loss: 0.0830 - val_acc: 0.9743\n",
            "Epoch 20/40\n",
            "1088/1088 [==============================] - 0s 37us/step - loss: 0.0194 - acc: 0.9972 - val_loss: 0.0776 - val_acc: 0.9816\n",
            "Epoch 21/40\n",
            "1088/1088 [==============================] - 0s 41us/step - loss: 0.0156 - acc: 0.9991 - val_loss: 0.0876 - val_acc: 0.9669\n",
            "Epoch 22/40\n",
            "1088/1088 [==============================] - 0s 41us/step - loss: 0.0120 - acc: 1.0000 - val_loss: 0.0950 - val_acc: 0.9669\n",
            "Epoch 23/40\n",
            "1088/1088 [==============================] - 0s 39us/step - loss: 0.0104 - acc: 1.0000 - val_loss: 0.0886 - val_acc: 0.9743\n",
            "Epoch 24/40\n",
            "1088/1088 [==============================] - 0s 38us/step - loss: 0.0097 - acc: 1.0000 - val_loss: 0.0866 - val_acc: 0.9706\n",
            "Epoch 25/40\n",
            "1088/1088 [==============================] - 0s 40us/step - loss: 0.0086 - acc: 1.0000 - val_loss: 0.0898 - val_acc: 0.9706\n",
            "Epoch 26/40\n",
            "1088/1088 [==============================] - 0s 36us/step - loss: 0.0082 - acc: 1.0000 - val_loss: 0.0872 - val_acc: 0.9743\n",
            "Epoch 27/40\n",
            "1088/1088 [==============================] - 0s 39us/step - loss: 0.0071 - acc: 1.0000 - val_loss: 0.0885 - val_acc: 0.9743\n",
            "Epoch 28/40\n",
            "1088/1088 [==============================] - 0s 39us/step - loss: 0.0066 - acc: 1.0000 - val_loss: 0.0893 - val_acc: 0.9706\n",
            "Epoch 29/40\n",
            "1088/1088 [==============================] - 0s 39us/step - loss: 0.0060 - acc: 1.0000 - val_loss: 0.0904 - val_acc: 0.9743\n",
            "Epoch 30/40\n",
            "1088/1088 [==============================] - 0s 35us/step - loss: 0.0057 - acc: 1.0000 - val_loss: 0.0909 - val_acc: 0.9669\n",
            "Epoch 31/40\n",
            "1088/1088 [==============================] - 0s 37us/step - loss: 0.0054 - acc: 1.0000 - val_loss: 0.0894 - val_acc: 0.9743\n",
            "Epoch 32/40\n",
            "1088/1088 [==============================] - 0s 42us/step - loss: 0.0048 - acc: 1.0000 - val_loss: 0.0895 - val_acc: 0.9743\n",
            "Epoch 33/40\n",
            "1088/1088 [==============================] - 0s 42us/step - loss: 0.0044 - acc: 1.0000 - val_loss: 0.0846 - val_acc: 0.9743\n",
            "Epoch 34/40\n",
            "1088/1088 [==============================] - 0s 38us/step - loss: 0.0046 - acc: 1.0000 - val_loss: 0.1027 - val_acc: 0.9706\n",
            "Epoch 35/40\n",
            "1088/1088 [==============================] - 0s 38us/step - loss: 0.0042 - acc: 1.0000 - val_loss: 0.0943 - val_acc: 0.9706\n",
            "Epoch 36/40\n",
            "1088/1088 [==============================] - 0s 41us/step - loss: 0.0036 - acc: 1.0000 - val_loss: 0.1012 - val_acc: 0.9706\n",
            "Epoch 37/40\n",
            "1088/1088 [==============================] - 0s 38us/step - loss: 0.0035 - acc: 1.0000 - val_loss: 0.0892 - val_acc: 0.9743\n",
            "Epoch 38/40\n",
            "1088/1088 [==============================] - 0s 35us/step - loss: 0.0031 - acc: 1.0000 - val_loss: 0.0984 - val_acc: 0.9743\n",
            "Epoch 39/40\n",
            "1088/1088 [==============================] - 0s 36us/step - loss: 0.0030 - acc: 1.0000 - val_loss: 0.0949 - val_acc: 0.9743\n",
            "Epoch 40/40\n",
            "1088/1088 [==============================] - 0s 41us/step - loss: 0.0029 - acc: 1.0000 - val_loss: 0.0913 - val_acc: 0.9779\n"
          ],
          "name": "stdout"
        }
      ]
    },
    {
      "metadata": {
        "id": "IC91NNATJ09q",
        "colab_type": "code",
        "colab": {}
      },
      "cell_type": "code",
      "source": [
        "def plot_history(histories, key='acc'):\n",
        "  plt.figure(figsize=(16,10))\n",
        "    \n",
        "  for name, history in histories:\n",
        "    val = plt.plot(history.epoch, history.history['val_'+key],\n",
        "                   '--', label=name.title()+' Val')\n",
        "    plt.plot(history.epoch, history.history[key], color=val[0].get_color(),\n",
        "             label=name.title()+' Train')\n",
        "\n",
        "  plt.xlabel('Epochs')\n",
        "  plt.ylabel(key.replace('_',' ').title())\n",
        "  plt.legend()\n",
        "  \n",
        "  plt.xlim([0,max(history.epoch)])"
      ],
      "execution_count": 0,
      "outputs": []
    },
    {
      "metadata": {
        "id": "rj9yS6Xircrg",
        "colab_type": "text"
      },
      "cell_type": "markdown",
      "source": [
        "### Plot accuracy score per epoch between training and validation data\n"
      ]
    },
    {
      "metadata": {
        "id": "fUHYslBQpqpN",
        "colab_type": "code",
        "colab": {
          "base_uri": "https://localhost:8080/",
          "height": 606
        },
        "outputId": "486231c4-33ab-48fc-a0bc-7bfaef2c4ee8"
      },
      "cell_type": "code",
      "source": [
        "plot_history([(\"NN\", history)])"
      ],
      "execution_count": 40,
      "outputs": [
        {
          "output_type": "display_data",
          "data": {
            "image/png": "[encoded data removed]",
            "text/plain": [
              "<matplotlib.figure.Figure at 0x7f151b2fc828>"
            ]
          },
          "metadata": {
            "tags": []
          }
        }
      ]
    },
    {
      "metadata": {
        "id": "3rQBmk5Dp-Pq",
        "colab_type": "code",
        "colab": {
          "base_uri": "https://localhost:8080/",
          "height": 52
        },
        "outputId": "fd7aae21-bd5c-4029-8b91-18f623b9fc6f"
      },
      "cell_type": "code",
      "source": [
        "test_loss, test_acc = model.evaluate(features_test, labels_test)\n",
        "\n",
        "print('Test accuracy:', test_acc)"
      ],
      "execution_count": 41,
      "outputs": [
        {
          "output_type": "stream",
          "text": [
            "340/340 [==============================] - 0s 41us/step\n",
            "Test accuracy: 0.9441176470588235\n"
          ],
          "name": "stdout"
        }
      ]
    },
    {
      "metadata": {
        "id": "bvlMtFbUqg6B",
        "colab_type": "code",
        "colab": {}
      },
      "cell_type": "code",
      "source": [
        "labels_pred = np.argmax(model.predict(features_test), axis=1)"
      ],
      "execution_count": 0,
      "outputs": []
    },
    {
      "metadata": {
        "id": "hU6SO0OMxEeN",
        "colab_type": "text"
      },
      "cell_type": "markdown",
      "source": [
        "\n",
        "### Confusion Matrix"
      ]
    },
    {
      "metadata": {
        "id": "oCldC_QjwH-B",
        "colab_type": "code",
        "colab": {}
      },
      "cell_type": "code",
      "source": [
        "from sklearn.metrics import confusion_matrix, classification_report\n",
        "label_names = [\"BRCA\",\"PRAD\",\"LUAD\",\"KIRC\",\"COAD\",\"UNK\",\"NE\"]\n",
        "label_values = [0,1,2,3,4,5,6]\n"
      ],
      "execution_count": 0,
      "outputs": []
    },
    {
      "metadata": {
        "id": "VaneMD8kwz4D",
        "colab_type": "code",
        "colab": {
          "base_uri": "https://localhost:8080/",
          "height": 156
        },
        "outputId": "1f64f27e-eb86-4df1-f3c3-379c2682469e"
      },
      "cell_type": "code",
      "source": [
        "cm = confusion_matrix(labels_test,labels_pred, labels=label_values)\n",
        "\n",
        "print(\"    \", end=\" \")\n",
        "for name in label_names:\n",
        "    print(name, end=\" \")\n",
        "print()\n",
        "for i in range(np.size(cm, axis=0)):\n",
        "  print(\"{:>4s}\".format(label_names[i]), end=\" \")\n",
        "  for val in cm[i]:\n",
        "    print(\"{:<4d}\".format(val),end=\" \")\n",
        "  print()\n",
        "  \n"
      ],
      "execution_count": 59,
      "outputs": [
        {
          "output_type": "stream",
          "text": [
            "     BRCA PRAD LUAD KIRC COAD UNK NE \n",
            "BRCA 45   0    0    0    0    0    3    \n",
            "PRAD 0    57   0    0    0    1    1    \n",
            "LUAD 0    0    58   0    0    1    0    \n",
            "KIRC 0    0    0    49   0    0    0    \n",
            "COAD 0    3    0    0    47   0    0    \n",
            " UNK 1    0    3    0    0    33   1    \n",
            "  NE 1    2    0    1    0    1    32   \n"
          ],
          "name": "stdout"
        }
      ]
    },
    {
      "metadata": {
        "id": "eyasOa_u04ba",
        "colab_type": "text"
      },
      "cell_type": "markdown",
      "source": [
        "### Classification Report"
      ]
    },
    {
      "metadata": {
        "id": "kiwdiHdmw2tj",
        "colab_type": "code",
        "colab": {
          "base_uri": "https://localhost:8080/",
          "height": 225
        },
        "outputId": "380a5d5d-dcfb-484f-9841-e0844d3249c5"
      },
      "cell_type": "code",
      "source": [
        "print(classification_report(labels_test, labels_pred, target_names=label_names))"
      ],
      "execution_count": 60,
      "outputs": [
        {
          "output_type": "stream",
          "text": [
            "             precision    recall  f1-score   support\n",
            "\n",
            "       BRCA       0.96      0.94      0.95        48\n",
            "       PRAD       0.92      0.97      0.94        59\n",
            "       LUAD       0.95      0.98      0.97        59\n",
            "       KIRC       0.98      1.00      0.99        49\n",
            "       COAD       1.00      0.94      0.97        50\n",
            "        UNK       0.92      0.87      0.89        38\n",
            "         NE       0.86      0.86      0.86        37\n",
            "\n",
            "avg / total       0.94      0.94      0.94       340\n",
            "\n"
          ],
          "name": "stdout"
        }
      ]
    },
    {
      "metadata": {
        "id": "bpCE06RD09Lo",
        "colab_type": "code",
        "colab": {}
      },
      "cell_type": "code",
      "source": [
        ""
      ],
      "execution_count": 0,
      "outputs": []
    }
  ]
}